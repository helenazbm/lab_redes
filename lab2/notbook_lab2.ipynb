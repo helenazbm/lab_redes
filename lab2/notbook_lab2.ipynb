{
  "cells": [
    {
      "cell_type": "markdown",
      "id": "542efe85",
      "metadata": {
        "id": "542efe85"
      },
      "source": [
        "Aluna: Maria Helena Barros Moraes"
      ]
    },
    {
      "cell_type": "markdown",
      "source": [
        "# PARTE 2\n",
        "\n"
      ],
      "metadata": {
        "id": "sAq0K03Ns7_2"
      },
      "id": "sAq0K03Ns7_2"
    },
    {
      "cell_type": "code",
      "execution_count": 1,
      "id": "2aef77ea",
      "metadata": {
        "id": "2aef77ea"
      },
      "outputs": [],
      "source": [
        "def xor_bits(a, b):\n",
        "    \"\"\"\n",
        "    Realiza a operação de XOR bit a bit entre duas strings binárias de mesmo comprimento.\n",
        "    \"\"\"\n",
        "    resultado = \"\"\n",
        "    for i in range(len(a)):\n",
        "        if a[i] == b[i]:\n",
        "            resultado += '0'\n",
        "        else:\n",
        "            resultado += '1'\n",
        "    return resultado\n",
        "\n",
        "\n",
        "def calcular_crc_manual(dados_bits: str, gerador_bits: str) -> str:\n",
        "    \"\"\"\n",
        "    Calcula o CRC para uma sequência de dados M(x) usando um gerador G(x).\n",
        "\n",
        "    Args:\n",
        "        dados_bits: A string binária representando o polinômio da mensagem, M(x).\n",
        "        gerador_bits: A string binária representando o polinômio gerador, G(x).\n",
        "\n",
        "    Returns:\n",
        "        A string binária de r bits representando o CRC.\n",
        "    \"\"\"\n",
        "    # 1. Obtenha o grau 'r' do gerador.\n",
        "    #    Lembre-se que um gerador de n bits representa um polinômio de grau n-1.\n",
        "    r = len(gerador_bits) - 1\n",
        "\n",
        "    # 2. Crie M(x) * 2^r, que é a mensagem com 'r' zeros anexados.\n",
        "    mensagem_aumentada = list(dados_bits + '0' * r)\n",
        "\n",
        "    # 3. Implemente o loop de divisão.\n",
        "    #    Percorra a mensagem bit a bit.\n",
        "    for i in range(len(dados_bits)):\n",
        "        # Se o bit mais significativo da 'janela' atual for '1', realize o XOR.\n",
        "        # - a janela\n",
        "        if mensagem_aumentada[i] == '1':\n",
        "            janela_atual = \"\".join(mensagem_aumentada[i : i + r + 1])\n",
        "            resultado_xor = xor_bits(janela_atual, gerador_bits)\n",
        "\n",
        "            # Atualize a mensagem com o resultado do XOR.\n",
        "            for j in range(1, len(resultado_xor)):\n",
        "                mensagem_aumentada[i + j] = resultado_xor[j]\n",
        "\n",
        "\n",
        "    # 4. O resto da divisão são os 'r' bits finais da mensagem processada.\n",
        "    resto = \"\".join(mensagem_aumentada[-r:])\n",
        "    return resto"
      ]
    },
    {
      "cell_type": "markdown",
      "id": "9164e3c0",
      "metadata": {
        "id": "9164e3c0"
      },
      "source": [
        "Utilizando os valores do slide 48 da aula RCNA_05, obtemos como saiída de CRC Calculado o valor: 0010, assim como quadro T(x) a ser transmitido o valor: 11010011101100.\n"
      ]
    },
    {
      "cell_type": "code",
      "execution_count": 2,
      "id": "c5e9aa5c",
      "metadata": {
        "id": "c5e9aa5c",
        "outputId": "08125c0c-cda8-4173-a13d-82f7392fefcb",
        "colab": {
          "base_uri": "https://localhost:8080/",
          "height": 0
        }
      },
      "outputs": [
        {
          "output_type": "stream",
          "name": "stdout",
          "text": [
            "Dados M(x): 1101011111\n",
            "Gerador G(x): 10011\n",
            "CRC Calculado: 0010\n",
            "Quadro T(x) a ser transmitido: 11010111110010\n"
          ]
        }
      ],
      "source": [
        "\n",
        "dados_teste = \"1101011111\"  # M(x)\n",
        "gerador_teste = \"10011\"    # G(x)\n",
        "crc_calculado = calcular_crc_manual(dados_teste, gerador_teste)\n",
        "\n",
        "print(f\"Dados M(x): {dados_teste}\")\n",
        "print(f\"Gerador G(x): {gerador_teste}\")\n",
        "print(f\"CRC Calculado: {crc_calculado}\")\n",
        "\n",
        "quadro_tx = dados_teste + crc_calculado\n",
        "print(f\"Quadro T(x) a ser transmitido: {quadro_tx}\")"
      ]
    },
    {
      "cell_type": "markdown",
      "source": [
        "# PARTE 3 -\n",
        "\n",
        "\n"
      ],
      "metadata": {
        "id": "mywvTIbmtGFx"
      },
      "id": "mywvTIbmtGFx"
    },
    {
      "cell_type": "code",
      "execution_count": 3,
      "id": "d8bd926e",
      "metadata": {
        "id": "d8bd926e",
        "outputId": "7bd898bf-0c7f-4408-eec5-b6500b88f096",
        "colab": {
          "base_uri": "https://localhost:8080/",
          "height": 0
        }
      },
      "outputs": [
        {
          "output_type": "stream",
          "name": "stdout",
          "text": [
            "Collecting crc\n",
            "  Downloading crc-7.1.0-py3-none-any.whl.metadata (6.0 kB)\n",
            "Downloading crc-7.1.0-py3-none-any.whl (8.8 kB)\n",
            "Installing collected packages: crc\n",
            "Successfully installed crc-7.1.0\n"
          ]
        }
      ],
      "source": [
        "!pip install crc"
      ]
    },
    {
      "cell_type": "code",
      "execution_count": 4,
      "id": "87eec930",
      "metadata": {
        "id": "87eec930",
        "outputId": "27766a8d-e8cc-4905-c74e-099a1e6418d2",
        "colab": {
          "base_uri": "https://localhost:8080/",
          "height": 0
        }
      },
      "outputs": [
        {
          "output_type": "stream",
          "name": "stdout",
          "text": [
            "Analisando para mensagem de 1500 bytes...\n",
            "Analisando para mensagem de 3000 bytes...\n",
            "Analisando para mensagem de 6000 bytes...\n",
            "Analisando para mensagem de 16000 bytes...\n",
            "--- Resultados Finais ---\n",
            "[{'tamanho': 1500, 'tempo_manual': 0.495685696999999, 'mem_pico_manual': 105.7587890625, 'tempo_lib': 0.12707248200001686, 'mem_pico_lib': 3.40625}, {'tamanho': 3000, 'tempo_manual': 1.0729165980000062, 'mem_pico_manual': 253.4111328125, 'tempo_lib': 0.2919908570000018, 'mem_pico_lib': 7.2041015625}, {'tamanho': 6000, 'tempo_manual': 2.1057895319999886, 'mem_pico_manual': 422.1650390625, 'tempo_lib': 0.7071503159999963, 'mem_pico_lib': 7.5068359375}, {'tamanho': 16000, 'tempo_manual': 5.130247908000001, 'mem_pico_manual': 1125.2900390625, 'tempo_lib': 0.7664622370000131, 'mem_pico_lib': 53.3330078125}]\n"
          ]
        }
      ],
      "source": [
        "import time\n",
        "import tracemalloc\n",
        "import os\n",
        "from crc import Calculator, Crc16\n",
        "\n",
        "# --- Insira sua função calcular_crc_manual e xor_bits aqui ---\n",
        "\n",
        " # Usando um padrão de 16 bits como referência\n",
        "calculator_lib = Calculator(Crc16.MODBUS)\n",
        "\n",
        "# Tamanhos de mensagem para teste (em bytes)\n",
        "tamanhos_bytes = [1500, 3000 , 6000 , 16000]\n",
        "\n",
        "resultados = []\n",
        "\n",
        "for tamanho in tamanhos_bytes:\n",
        "    print(f\"Analisando para mensagem de {tamanho} bytes...\")\n",
        "    # Gere uma mensagem aleatória de bits\n",
        "    mensagem_bytes = os.urandom(tamanho)\n",
        "    mensagem_bits = \"\".join(format(byte, '08b') for byte in mensagem_bytes)\n",
        "\n",
        "    # Medição da nossa Implementação\n",
        "    tracemalloc.start()\n",
        "    start_time = time.perf_counter()\n",
        "\n",
        "    crc_manual = calcular_crc_manual(mensagem_bits, \"11000000000000101\") # G(x) do CRC-16/MODBUS\n",
        "\n",
        "    end_time = time.perf_counter()\n",
        "    mem_atual_manual, mem_pico_manual = tracemalloc.get_traced_memory()\n",
        "    tracemalloc.stop()\n",
        "\n",
        "    tempo_manual = end_time - start_time\n",
        "\n",
        "    # Medição da Biblioteca\n",
        "    tracemalloc.start()\n",
        "    start_time = time.perf_counter()\n",
        "\n",
        "    crc_lib = calculator_lib.checksum(mensagem_bytes)\n",
        "\n",
        "    end_time = time.perf_counter()\n",
        "    mem_atual_lib, mem_pico_lib = tracemalloc.get_traced_memory()\n",
        "    tracemalloc.stop()\n",
        "\n",
        "    tempo_lib = end_time - start_time\n",
        "\n",
        "    # Armazene os resultados\n",
        "    resultados.append({\n",
        "        \"tamanho\": tamanho,\n",
        "        \"tempo_manual\": tempo_manual,\n",
        "        \"mem_pico_manual\": mem_pico_manual / 1024, # em KiB\n",
        "        \"tempo_lib\": tempo_lib,\n",
        "        \"mem_pico_lib\": mem_pico_lib / 1024 # em KiB\n",
        "    })\n",
        "\n",
        "print(\"--- Resultados Finais ---\")\n",
        "print(resultados)"
      ]
    },
    {
      "cell_type": "markdown",
      "id": "aa1a8c98",
      "metadata": {
        "id": "aa1a8c98"
      },
      "source": [
        "Usando a biblioteca matplotlib, dois gráficos foram gerados:\n",
        "    Gráfico 1: Tamanho da Mensagem (x) vs. Tempo de Execução (y)\n",
        "    Gráfico 2: Tamanho da Mensagem (x) vs. Pico de Memória (y)\n",
        "\n",
        "USO DE IA: Para essa parte da atividade, utilizei a IA para auxiliar na plotagem dos gráficos e na análise dos resultados, devido à falta de familiaridade com a biblioteca matplotlib."
      ]
    },
    {
      "cell_type": "code",
      "execution_count": 5,
      "id": "77a0b106",
      "metadata": {
        "id": "77a0b106",
        "outputId": "8421ecdc-099c-469b-8a4b-f890ef4455d0",
        "colab": {
          "base_uri": "https://localhost:8080/",
          "height": 0
        }
      },
      "outputs": [
        {
          "output_type": "stream",
          "name": "stdout",
          "text": [
            "Requirement already satisfied: matplotlib in /usr/local/lib/python3.11/dist-packages (3.10.0)\n",
            "Requirement already satisfied: contourpy>=1.0.1 in /usr/local/lib/python3.11/dist-packages (from matplotlib) (1.3.2)\n",
            "Requirement already satisfied: cycler>=0.10 in /usr/local/lib/python3.11/dist-packages (from matplotlib) (0.12.1)\n",
            "Requirement already satisfied: fonttools>=4.22.0 in /usr/local/lib/python3.11/dist-packages (from matplotlib) (4.59.0)\n",
            "Requirement already satisfied: kiwisolver>=1.3.1 in /usr/local/lib/python3.11/dist-packages (from matplotlib) (1.4.8)\n",
            "Requirement already satisfied: numpy>=1.23 in /usr/local/lib/python3.11/dist-packages (from matplotlib) (2.0.2)\n",
            "Requirement already satisfied: packaging>=20.0 in /usr/local/lib/python3.11/dist-packages (from matplotlib) (25.0)\n",
            "Requirement already satisfied: pillow>=8 in /usr/local/lib/python3.11/dist-packages (from matplotlib) (11.2.1)\n",
            "Requirement already satisfied: pyparsing>=2.3.1 in /usr/local/lib/python3.11/dist-packages (from matplotlib) (3.2.3)\n",
            "Requirement already satisfied: python-dateutil>=2.7 in /usr/local/lib/python3.11/dist-packages (from matplotlib) (2.9.0.post0)\n",
            "Requirement already satisfied: six>=1.5 in /usr/local/lib/python3.11/dist-packages (from python-dateutil>=2.7->matplotlib) (1.17.0)\n"
          ]
        }
      ],
      "source": [
        "!pip install matplotlib"
      ]
    },
    {
      "cell_type": "code",
      "execution_count": 6,
      "id": "658f9a80",
      "metadata": {
        "id": "658f9a80",
        "outputId": "53e61450-65a0-4c25-b488-b1efd271b5c5",
        "colab": {
          "base_uri": "https://localhost:8080/",
          "height": 754
        }
      },
      "outputs": [
        {
          "output_type": "display_data",
          "data": {
            "text/plain": [
              "<Figure size 1000x500 with 1 Axes>"
            ],
            "image/png": "[encoded data removed]"
          },
          "metadata": {}
        },
        {
          "output_type": "display_data",
          "data": {
            "text/plain": [
              "<Figure size 1000x500 with 1 Axes>"
            ],
            "image/png": "[encoded data removed]"
          },
          "metadata": {}
        }
      ],
      "source": [
        "\n",
        "import matplotlib.pyplot as plt\n",
        "\n",
        "# Extrair dados dos resultados\n",
        "tamanhos = [r[\"tamanho\"] for r in resultados]\n",
        "tempos_manual = [r[\"tempo_manual\"] for r in resultados]\n",
        "tempos_lib = [r[\"tempo_lib\"] for r in resultados]\n",
        "mem_manual = [r[\"mem_pico_manual\"] for r in resultados]\n",
        "mem_lib = [r[\"mem_pico_lib\"] for r in resultados]\n",
        "\n",
        "# Gráfico 1: Tamanho vs Tempo\n",
        "plt.figure(figsize=(10, 5))\n",
        "plt.plot(tamanhos, tempos_manual, label=\"Manual\", marker=\"o\")\n",
        "plt.plot(tamanhos, tempos_lib, label=\"Biblioteca\", marker=\"s\")\n",
        "plt.title(\"Tamanho da Mensagem vs Tempo de Execução\")\n",
        "plt.xlabel(\"Tamanho da Mensagem (bytes)\")\n",
        "plt.ylabel(\"Tempo (segundos)\")\n",
        "plt.legend()\n",
        "plt.grid(True)\n",
        "plt.tight_layout()\n",
        "plt.show()\n",
        "\n",
        "# Gráfico 2: Tamanho vs Pico de Memória\n",
        "plt.figure(figsize=(10, 5))\n",
        "plt.plot(tamanhos, mem_manual, label=\"Manual\", marker=\"o\")\n",
        "plt.plot(tamanhos, mem_lib, label=\"Biblioteca\", marker=\"s\")\n",
        "plt.title(\"Tamanho da Mensagem vs Pico de Memória\")\n",
        "plt.xlabel(\"Tamanho da Mensagem (bytes)\")\n",
        "plt.ylabel(\"Pico de Memória (KiB)\")\n",
        "plt.legend()\n",
        "plt.grid(True)\n",
        "plt.tight_layout()\n",
        "plt.show()\n",
        "\n"
      ]
    },
    {
      "cell_type": "markdown",
      "id": "eef96508",
      "metadata": {
        "id": "eef96508"
      },
      "source": [
        "Interpretação: Os testes foram realizados em uma máquina com processador Intel Core i5-1135G7, 8 GB de RAM, rodando Ubuntu 22.04 e Python 3.10. Foi possível observar que a implementação manual do CRC é mais lenta e consome mais memória, principalmente com mensagens maiores. Já a biblioteca crc é muito mais rápida e eficiente, pois é otimizada e provavelmente implementada em uma linguagem de baixo nível como C. Para aplicações reais, o uso da biblioteca é mais indicado, enquanto a versão manual é útil para fins de estudo e entendimento da lógica do algoritmo."
      ]
    },
    {
      "cell_type": "markdown",
      "source": [
        "# **PARTE 4**\n",
        "\n",
        "**4.1**\n",
        "**a)** Usando o site convertbinary.com, obtive como resultado para o meu nome 'maria helena barros moraes' o seguinte valor: 01101101 01100001 01110010 01101001 01100001 00100000 01101000 01100101 01101100 01100101 01101110 01100001 00100000 01100010 01100001 01110010 01110010 01101111 01110011 00100000 01101101 01101111 01110010 01100001 01100101 01110011 .\n",
        "\n",
        "**b)** Escolhendo o meu gerador pessoal: O último dígito da minha matrícula é o 1 (122210021), logo a escolha foi o ' Final 0, 1, 2: CRC-16/MODBUS (11000000000000101 ou x 16 + x 15 + x 2 + 1 ) -> 11000000000000101'"
      ],
      "metadata": {
        "id": "-FHQLf-gtOOk"
      },
      "id": "-FHQLf-gtOOk"
    },
    {
      "cell_type": "markdown",
      "id": "85e0918d",
      "metadata": {
        "id": "85e0918d"
      },
      "source": [
        "\n",
        "| VARIAVEL              | VALOR |\n",
        "| :-                    | :-    |\n",
        "| `MENSAGEM`            |   maria helena barros moraes   |\n",
        "| `MENSAGEM_BASE`       |   01101101 01100001 01110010 01101001 01100001 00100000 01101000 01100101 01101100 01100101 01101110 01100001 00100000 01100010 01100001 01110010 01110010 01101111 01110011 00100000 01101101 01101111 01110010 01100001 01100101 01110011   |\n",
        "| `CRC`                 |   ?   |\n"
      ]
    },
    {
      "cell_type": "markdown",
      "id": "bb52130e",
      "metadata": {
        "id": "bb52130e"
      },
      "source": [
        "**4.2**\n",
        "\n",
        "1. Calculando o CRC da minha mensagem base com o gerador escolhido:\n"
      ]
    },
    {
      "cell_type": "code",
      "execution_count": 7,
      "id": "fd097a7b",
      "metadata": {
        "id": "fd097a7b",
        "outputId": "63ff5cd1-0dd1-4d5e-9a99-b02fa7a03b5d",
        "colab": {
          "base_uri": "https://localhost:8080/",
          "height": 0
        }
      },
      "outputs": [
        {
          "output_type": "stream",
          "name": "stdout",
          "text": [
            "CRC calculado: 0111100001001001\n"
          ]
        }
      ],
      "source": [
        "mensagem_base = \"0110110101100001011100100110100101100001001000000110100001100101011011000110010101101110011000010010000001100010011000010111001001110010011011110111001100100000011011010110111101110010011000010110010101110011\"\n",
        "gerador = \"11000000000000101\"  # CRC-16/MODBUS\n",
        "\n",
        "crc_calculado = calcular_crc_manual(mensagem_base, gerador)\n",
        "print(\"CRC calculado:\", crc_calculado)\n"
      ]
    },
    {
      "cell_type": "markdown",
      "id": "bab0882f",
      "metadata": {
        "id": "bab0882f"
      },
      "source": [
        "2. Formando o quadro transmitido, concatenando a mensagem base com o CRC calculado:\n"
      ]
    },
    {
      "cell_type": "code",
      "execution_count": 8,
      "id": "7e16276a",
      "metadata": {
        "id": "7e16276a",
        "outputId": "fef37360-3e05-4d4e-dbe9-7433047c5481",
        "colab": {
          "base_uri": "https://localhost:8080/",
          "height": 0
        }
      },
      "outputs": [
        {
          "output_type": "stream",
          "name": "stdout",
          "text": [
            "Quadro T(x) a ser transmitido: 01101101011000010111001001101001011000010010000001101000011001010110110001100101011011100110000100100000011000100110000101110010011100100110111101110011001000000110110101101111011100100110000101100101011100110111100001001001\n"
          ]
        }
      ],
      "source": [
        "quadro_tx = mensagem_base + crc_calculado\n",
        "print(f\"Quadro T(x) a ser transmitido: {quadro_tx}\")"
      ]
    },
    {
      "cell_type": "markdown",
      "id": "54e7df80",
      "metadata": {
        "id": "54e7df80"
      },
      "source": [
        "3. Escolhendo uma posição aleatória e insirindo um erro de rajada de n bits (e.g., uma sequência contínua de n bits invertidos).\n",
        "4. Obtendo o QUADRO_CORROMPIDO, aplicando XOR entre o QUADRO_TRANSMITIDO e o padrão de erro."
      ]
    },
    {
      "cell_type": "code",
      "execution_count": 13,
      "id": "8aba1e85",
      "metadata": {
        "id": "8aba1e85",
        "outputId": "b6627468-b5d8-41d0-c3ec-a4cc76b501d3",
        "colab": {
          "base_uri": "https://localhost:8080/",
          "height": 0
        }
      },
      "outputs": [
        {
          "output_type": "stream",
          "name": "stdout",
          "text": [
            "Erro inserido na posição: 3\n",
            "Padrão de erro: 00011111000000000000000000000000000000000000000000000000000000000000000000000000000000000000000000000000000000000000000000000000000000000000000000000000000000000000000000000000000000000000000000000000000000000000000000000000\n",
            "Quadro corrompido: 01110010011000010111001001101001011000010010000001101000011001010110110001100101011011100110000100100000011000100110000101110010011100100110111101110011001000000110110101101111011100100110000101100101011100111100000010110010\n"
          ]
        }
      ],
      "source": [
        "import random\n",
        "\n",
        "def inserir_erro_rajada(quadro_tx: str, n: int) -> (str, int, str):\n",
        "    tamanho = len(quadro_tx)\n",
        "\n",
        "    # 1. Escolher uma posição aleatória para inserir o erro, garantindo que caiba o erro de n bits\n",
        "    pos_erro = random.randint(0, tamanho - n)\n",
        "\n",
        "    # 2. Criar o padrão de erro: n bits \"1\" (invertidos) na posição aleatória, 0 no resto\n",
        "    erro_bits = ['0'] * tamanho\n",
        "    for i in range(pos_erro, pos_erro + n):\n",
        "        erro_bits[i] = '1'\n",
        "    erro_str = \"\".join(erro_bits)\n",
        "\n",
        "    # 3. Aplicar XOR entre o quadro transmitido e o padrão de erro para criar quadro corrompido\n",
        "    quadro_corrompido = \"\"\n",
        "    for i in range(tamanho):\n",
        "        # XOR bit a bit: se igual -> 0, se diferente -> 1\n",
        "        if quadro_tx[i] == erro_str[i]:\n",
        "            quadro_corrompido += '0'\n",
        "        else:\n",
        "            quadro_corrompido += '1'\n",
        "\n",
        "    return quadro_corrompido, pos_erro, erro_str\n",
        "\n",
        "n_bits_erro = 5\n",
        "quadro_corrompido, pos_erro, padrao_erro = inserir_erro_rajada(quadro_tx, n_bits_erro)\n",
        "\n",
        "print(f\"Erro inserido na posição: {pos_erro}\")\n",
        "print(f\"Padrão de erro: {padrao_erro}\")\n",
        "print(f\"Quadro corrompido: {quadro_corrompido}\")\n"
      ]
    },
    {
      "cell_type": "markdown",
      "id": "48f3f8cd",
      "metadata": {
        "id": "48f3f8cd"
      },
      "source": [
        "5. Calculando o CRC do QUADRO_CORROMPIDO, usando: Sua função calcular_crc_manual.A função da biblioteca de CRC.\n",
        "\n",
        "6. Verificando se o erro foi detectado: Sim, o erro foi detectado, pois o CRC resultando foi difrente de uma sequência de zeros."
      ]
    },
    {
      "cell_type": "code",
      "execution_count": 15,
      "id": "897eaab9",
      "metadata": {
        "id": "897eaab9"
      },
      "outputs": [],
      "source": [
        "def bits_para_bytes(bits_str):\n",
        "\n",
        "    bytes_list = []\n",
        "    for i in range(0, len(bits_str), 8):\n",
        "        byte = bits_str[i:i+8]\n",
        "        bytes_list.append(int(byte, 2))\n",
        "    return bytes(bytes_list)\n"
      ]
    },
    {
      "cell_type": "code",
      "execution_count": 16,
      "id": "ed104556",
      "metadata": {
        "id": "ed104556",
        "outputId": "1ad16517-20cd-4a9a-8a3e-6c68cc6421d1",
        "colab": {
          "base_uri": "https://localhost:8080/",
          "height": 0
        }
      },
      "outputs": [
        {
          "output_type": "stream",
          "name": "stdout",
          "text": [
            "CRC manual do quadro corrompido: 1100000010110010\n",
            "CRC biblioteca do quadro corrompido (binário): 1011000100011000\n"
          ]
        }
      ],
      "source": [
        "crc_manual_corrompido = calcular_crc_manual(quadro_corrompido, gerador)\n",
        "\n",
        "quadro_corrompido_bytes = bits_para_bytes(quadro_corrompido)\n",
        "crc_lib_corrompido = calculator_lib.checksum(quadro_corrompido_bytes)\n",
        "\n",
        "crc_lib_binario = format(crc_lib_corrompido, '016b')\n",
        "\n",
        "print(f\"CRC manual do quadro corrompido: {crc_manual}\")\n",
        "print(f\"CRC biblioteca do quadro corrompido (binário): {crc_lib_binario}\")\n"
      ]
    },
    {
      "cell_type": "code",
      "execution_count": 17,
      "id": "9e3b46ed",
      "metadata": {
        "id": "9e3b46ed",
        "outputId": "377fccd7-c270-4c9c-e861-46bb89a14b0d",
        "colab": {
          "base_uri": "https://localhost:8080/",
          "height": 0
        }
      },
      "outputs": [
        {
          "output_type": "stream",
          "name": "stdout",
          "text": [
            "Padrão de erro inserido: 00000000000000000000000000000000000000000000000000000000000000000000111110000000000000000000000000000000000000000000000000000000000000000000000000000000000000000000000000000000000000000000000000000000000000000000000000000000\n",
            "Posição inicial da rajada de erro: 68\n",
            "CRC manual do quadro corrompido: 1000010010001011\n",
            "CRC biblioteca do quadro corrompido (binário): 0001000101010000\n",
            "Erro detectado pela função manual? Sim\n",
            "Erro detectado pela biblioteca? Sim\n"
          ]
        }
      ],
      "source": [
        "import random\n",
        "from crc import Calculator, Crc16\n",
        "\n",
        "# QUADRO_TRANSMITIDO já definido\n",
        "quadro_tx = mensagem_base + crc_manual  # ou use sua variável pronta\n",
        "\n",
        "# Escolhendo um valor n para a rajada de erro\n",
        "n = 5  # por exemplo, 5 bits seguidos\n",
        "tamanho_quadro = len(quadro_tx)\n",
        "\n",
        "# Escolhendo uma posição aleatória onde o erro será inserido\n",
        "pos_erro = random.randint(0, tamanho_quadro - n)\n",
        "\n",
        "# Criando padrão de erro (sequência de n bits '1' iniciando em pos_erro)\n",
        "padrao_erro = ['0'] * tamanho_quadro\n",
        "for i in range(n):\n",
        "    padrao_erro[pos_erro + i] = '1'\n",
        "padrao_erro = ''.join(padrao_erro)\n",
        "\n",
        "# Aplicando XOR entre quadro transmitido e padrão de erro\n",
        "quadro_corrompido = ''.join(\n",
        "    '1' if bit != erro else '0'\n",
        "    for bit, erro in zip(quadro_tx, padrao_erro)\n",
        ")\n",
        "\n",
        "# Calculando CRC manual\n",
        "crc_manual_corrompido = calcular_crc_manual(quadro_corrompido, gerador)\n",
        "\n",
        "# Calculando CRC usando biblioteca\n",
        "crc_calculator = Calculator(Crc16.MODBUS)\n",
        "# Convertendo quadro corrompido de binário para bytes\n",
        "quadro_corrompido_bytes = int(quadro_corrompido, 2).to_bytes((len(quadro_corrompido) + 7) // 8, byteorder='big')\n",
        "crc_lib_corrompido = crc_calculator.checksum(quadro_corrompido_bytes)\n",
        "crc_lib_binario = format(crc_lib_corrompido, '016b')\n",
        "\n",
        "# Verificação se o erro foi detectado\n",
        "erro_detectado_manual = (crc_manual_corrompido != '0000000000000000')\n",
        "erro_detectado_biblioteca = (crc_lib_corrompido != 0)\n",
        "\n",
        "# 🔍 Registro e Saída\n",
        "print(f\"Padrão de erro inserido: {padrao_erro}\")\n",
        "print(f\"Posição inicial da rajada de erro: {pos_erro}\")\n",
        "print(f\"CRC manual do quadro corrompido: {crc_manual_corrompido}\")\n",
        "print(f\"CRC biblioteca do quadro corrompido (binário): {crc_lib_binario}\")\n",
        "print(f\"Erro detectado pela função manual? {'Sim' if erro_detectado_manual else 'Não'}\")\n",
        "print(f\"Erro detectado pela biblioteca? {'Sim' if erro_detectado_biblioteca else 'Não'}\")\n"
      ]
    },
    {
      "cell_type": "markdown",
      "source": [
        "# Reportando o Ponto Cego"
      ],
      "metadata": {
        "id": "Ho1mXDAstYb7"
      },
      "id": "Ho1mXDAstYb7"
    },
    {
      "cell_type": "code",
      "execution_count": 18,
      "id": "41e528a5",
      "metadata": {
        "id": "41e528a5",
        "outputId": "da1f805e-08b6-47db-fb17-8530c037cbb2",
        "colab": {
          "base_uri": "https://localhost:8080/",
          "height": 0
        }
      },
      "outputs": [
        {
          "output_type": "stream",
          "name": "stdout",
          "text": [
            "\n",
            "--- TESTES DE 10 ERROS ---\n",
            "\n",
            "🧪 Teste 1\n",
            "Rajada de 3 bits na posição 57\n",
            "Padrão de erro: 00000000000000000000000000000000000000000000000000000000011100000000000000000000000000000000000000000000000000000000000000000000000000000000000000000000000000000000000000000000000000000000000000000000000000000000000000000000\n",
            "CRC manual: 1111011101110100 -> ✅\n",
            "CRC biblioteca: 1000010101100101 -> ✅\n",
            "\n",
            "🧪 Teste 2\n",
            "Rajada de 7 bits na posição 80\n",
            "Padrão de erro: 00000000000000000000000000000000000000000000000000000000000000000000000000000000111111100000000000000000000000000000000000000000000000000000000000000000000000000000000000000000000000000000000000000000000000000000000000000000\n",
            "CRC manual: 1001010000110011 -> ✅\n",
            "CRC biblioteca: 0110101001001111 -> ✅\n",
            "\n",
            "🧪 Teste 3\n",
            "Rajada de 5 bits na posição 170\n",
            "Padrão de erro: 00000000000000000000000000000000000000000000000000000000000000000000000000000000000000000000000000000000000000000000000000000000000000000000000000000000000000000000000000111110000000000000000000000000000000000000000000000000\n",
            "CRC manual: 1011110111100011 -> ✅\n",
            "CRC biblioteca: 0111000111000001 -> ✅\n",
            "\n",
            "🧪 Teste 4\n",
            "Rajada de 4 bits na posição 7\n",
            "Padrão de erro: 00000001111000000000000000000000000000000000000000000000000000000000000000000000000000000000000000000000000000000000000000000000000000000000000000000000000000000000000000000000000000000000000000000000000000000000000000000000\n",
            "CRC manual: 0000000110110000 -> ✅\n",
            "CRC biblioteca: 0110110111100000 -> ✅\n",
            "\n",
            "🧪 Teste 5\n",
            "Rajada de 6 bits na posição 194\n",
            "Padrão de erro: 00000000000000000000000000000000000000000000000000000000000000000000000000000000000000000000000000000000000000000000000000000000000000000000000000000000000000000000000000000000000000000000000000111111000000000000000000000000\n",
            "CRC manual: 0000110000001010 -> ✅\n",
            "CRC biblioteca: 1010011000010010 -> ✅\n",
            "\n",
            "🧪 Teste 6\n",
            "Rajada de 9 bits na posição 153\n",
            "Padrão de erro: 00000000000000000000000000000000000000000000000000000000000000000000000000000000000000000000000000000000000000000000000000000000000000000000000000000000011111111100000000000000000000000000000000000000000000000000000000000000\n",
            "CRC manual: 0001000010001110 -> ✅\n",
            "CRC biblioteca: 1101000000110110 -> ✅\n",
            "\n",
            "🧪 Teste 7\n",
            "Rajada de 5 bits na posição 131\n",
            "Padrão de erro: 00000000000000000000000000000000000000000000000000000000000000000000000000000000000000000000000000000000000000000000000000000000000111110000000000000000000000000000000000000000000000000000000000000000000000000000000000000000\n",
            "CRC manual: 0100010101111011 -> ✅\n",
            "CRC biblioteca: 0101100111001011 -> ✅\n",
            "\n",
            "🧪 Teste 8\n",
            "Rajada de 9 bits na posição 192\n",
            "Padrão de erro: 00000000000000000000000000000000000000000000000000000000000000000000000000000000000000000000000000000000000000000000000000000000000000000000000000000000000000000000000000000000000000000000000011111111100000000000000000000000\n",
            "CRC manual: 1000011000101011 -> ✅\n",
            "CRC biblioteca: 0100111000101111 -> ✅\n",
            "\n",
            "🧪 Teste 9\n",
            "Rajada de 8 bits na posição 16\n",
            "Padrão de erro: 00000000000000001111111100000000000000000000000000000000000000000000000000000000000000000000000000000000000000000000000000000000000000000000000000000000000000000000000000000000000000000000000000000000000000000000000000000000\n",
            "CRC manual: 0010011001000000 -> ✅\n",
            "CRC biblioteca: 1011000001111010 -> ✅\n",
            "\n",
            "🧪 Teste 10\n",
            "Rajada de 10 bits na posição 72\n",
            "Padrão de erro: 00000000000000000000000000000000000000000000000000000000000000000000000011111111110000000000000000000000000000000000000000000000000000000000000000000000000000000000000000000000000000000000000000000000000000000000000000000000\n",
            "CRC manual: 0010101100100010 -> ✅\n",
            "CRC biblioteca: 1000111000000110 -> ✅\n",
            "\n",
            "--- RELATÓRIO FINAL ---\n",
            "Teste 1: Pos 57, Erro 3 bits\n",
            "Manual: Detectou | Biblioteca: Detectou\n",
            "Teste 2: Pos 80, Erro 7 bits\n",
            "Manual: Detectou | Biblioteca: Detectou\n",
            "Teste 3: Pos 170, Erro 5 bits\n",
            "Manual: Detectou | Biblioteca: Detectou\n",
            "Teste 4: Pos 7, Erro 4 bits\n",
            "Manual: Detectou | Biblioteca: Detectou\n",
            "Teste 5: Pos 194, Erro 6 bits\n",
            "Manual: Detectou | Biblioteca: Detectou\n",
            "Teste 6: Pos 153, Erro 9 bits\n",
            "Manual: Detectou | Biblioteca: Detectou\n",
            "Teste 7: Pos 131, Erro 5 bits\n",
            "Manual: Detectou | Biblioteca: Detectou\n",
            "Teste 8: Pos 192, Erro 9 bits\n",
            "Manual: Detectou | Biblioteca: Detectou\n",
            "Teste 9: Pos 16, Erro 8 bits\n",
            "Manual: Detectou | Biblioteca: Detectou\n",
            "Teste 10: Pos 72, Erro 10 bits\n",
            "Manual: Detectou | Biblioteca: Detectou\n"
          ]
        }
      ],
      "source": [
        "# CRC UTILITÁRIOS\n",
        "from crc import Calculator, Crc16\n",
        "import random\n",
        "import os\n",
        "\n",
        "def xor_bits(a, b):\n",
        "    return ''.join('0' if x == y else '1' for x, y in zip(a, b))\n",
        "\n",
        "def calcular_crc_manual(dados_bits: str, gerador_bits: str) -> str:\n",
        "    r = len(gerador_bits) - 1\n",
        "    mensagem = list(dados_bits + '0' * r)\n",
        "    for i in range(len(dados_bits)):\n",
        "        if mensagem[i] == '1':\n",
        "            janela = mensagem[i:i + r + 1]\n",
        "            xor = xor_bits(''.join(janela), gerador_bits)\n",
        "            for j in range(1, len(xor)):\n",
        "                mensagem[i + j] = xor[j]\n",
        "    return ''.join(mensagem[-r:])\n",
        "\n",
        "def bits_para_bytes(bits_str):\n",
        "    return bytes(int(bits_str[i:i+8], 2) for i in range(0, len(bits_str), 8))\n",
        "\n",
        "def inserir_erro_rajada(bits, n, pos):\n",
        "    erro = ['0'] * len(bits)\n",
        "    for i in range(n):\n",
        "        erro[pos + i] = '1'\n",
        "    erro_str = ''.join(erro)\n",
        "    corrompido = ''.join('1' if b != e else '0' for b, e in zip(bits, erro_str))\n",
        "    return corrompido, erro_str\n",
        "\n",
        "# MENSAGEM E CONFIG\n",
        "mensagem_base = \"0110110101100001011100100110100101100001001000000110100001100101011011000110010101101110011000010010000001100010011000010111001001110010011011110111001100100000011011010110111101110010011000010110010101110011\"\n",
        "gerador = \"11000000000000101\"\n",
        "calculator_lib = Calculator(Crc16.MODBUS)\n",
        "\n",
        "# CRC ORIGINAL\n",
        "crc_manual = calcular_crc_manual(mensagem_base, gerador)\n",
        "quadro_tx = mensagem_base + crc_manual\n",
        "\n",
        "# TESTES AUTOMÁTICOS\n",
        "relatorio = []\n",
        "print(\"\\n--- TESTES DE 10 ERROS ---\")\n",
        "for i in range(10):\n",
        "    n_erro = random.randint(3, 12)\n",
        "    pos = random.randint(0, len(quadro_tx) - n_erro)\n",
        "    quadro_corrompido, padrao_erro = inserir_erro_rajada(quadro_tx, n_erro, pos)\n",
        "\n",
        "    crc_m = calcular_crc_manual(quadro_corrompido, gerador)\n",
        "    crc_b = calculator_lib.checksum(bits_para_bytes(quadro_corrompido))\n",
        "\n",
        "    detectado_m = crc_m != '0' * (len(gerador) - 1)\n",
        "    detectado_b = crc_b != 0\n",
        "\n",
        "    relatorio.append({\n",
        "        \"teste\": i + 1,\n",
        "        \"pos\": pos,\n",
        "        \"n\": n_erro,\n",
        "        \"padrao\": padrao_erro,\n",
        "        \"crc_manual\": crc_m,\n",
        "        \"crc_bib\": format(crc_b, '016b'),\n",
        "        \"manual_detectou\": detectado_m,\n",
        "        \"bib_detectou\": detectado_b\n",
        "    })\n",
        "\n",
        "    print(f\"\\n🧪 Teste {i + 1}\")\n",
        "    print(f\"Rajada de {n_erro} bits na posição {pos}\")\n",
        "    print(f\"Padrão de erro: {padrao_erro}\")\n",
        "    print(f\"CRC manual: {crc_m} -> {'✅' if detectado_m else '❌'}\")\n",
        "    print(f\"CRC biblioteca: {format(crc_b, '016b')} -> {'✅' if detectado_b else '❌'}\")\n",
        "\n",
        "print(\"\\n--- RELATÓRIO FINAL ---\")\n",
        "for item in relatorio:\n",
        "    print(f\"Teste {item['teste']}: Pos {item['pos']}, Erro {item['n']} bits\")\n",
        "    print(f\"Manual: {'Detectou' if item['manual_detectou'] else 'Falhou'} | Biblioteca: {'Detectou' if item['bib_detectou'] else 'Falhou'}\")\n",
        "    if not item['manual_detectou'] or not item['bib_detectou']:\n",
        "        print(f\"⚠️ PONTO CEGO! Padrão: {item['padrao']}\\n\")\n"
      ]
    },
    {
      "cell_type": "code",
      "execution_count": 19,
      "id": "7e39a102",
      "metadata": {
        "id": "7e39a102"
      },
      "outputs": [],
      "source": [
        "def introduzir_erro(bits: str, posicoes: list) -> str:\n",
        "    \"\"\"\n",
        "    Inverte bits nas posições indicadas.\n",
        "    \"\"\"\n",
        "    bits = list(bits)\n",
        "    for pos in posicoes:\n",
        "        bits[pos] = '1' if bits[pos] == '0' else '0'\n",
        "    return \"\".join(bits)\n",
        "\n",
        "def erro_detectado(recebido: str, gerador: str) -> bool:\n",
        "    \"\"\"\n",
        "    Retorna True se um erro foi detectado (CRC ≠ 0).\n",
        "    \"\"\"\n",
        "    crc = calcular_crc_manual(recebido, gerador)\n",
        "    return crc != '0' * (len(gerador) - 1)\n"
      ]
    },
    {
      "cell_type": "code",
      "execution_count": 20,
      "id": "4b689142",
      "metadata": {
        "id": "4b689142"
      },
      "outputs": [],
      "source": [
        "import binascii\n",
        "\n",
        "def crc_biblioteca(dados_bits: str) -> str:\n",
        "    \"\"\"\n",
        "    Calcula CRC-16 usando biblioteca para comparação.\n",
        "    \"\"\"\n",
        "    # converte para bytes (grupo de 8 bits)\n",
        "    dados_bytes = int(dados_bits, 2).to_bytes((len(dados_bits) + 7) // 8, byteorder='big')\n",
        "    crc_int = binascii.crc_hqx(dados_bytes, 0xffff)\n",
        "    return format(crc_int, '016b')  # saída em 16 bits\n"
      ]
    },
    {
      "cell_type": "code",
      "execution_count": 21,
      "id": "fa264311",
      "metadata": {
        "id": "fa264311",
        "outputId": "724dbae8-22e5-4245-8294-6f35d8e474f1",
        "colab": {
          "base_uri": "https://localhost:8080/",
          "height": 0
        }
      },
      "outputs": [
        {
          "output_type": "stream",
          "name": "stdout",
          "text": [
            "Teste | Padrão de erro     | Detectado (manual) | Detectado (biblio)\n",
            "------|--------------------|---------------------|---------------------\n",
            "    1 | [0]                | True                | True               \n",
            "    2 | [3]                | True                | True               \n",
            "    3 | [5, 6]             | True                | True               \n",
            "    4 | [2, 4, 6]          | True                | True               \n",
            "    5 | [7, 8, 9]          | True                | True               \n",
            "    6 | [0, 1, 2, 3]       | True                | True               \n",
            "    7 | [1, 5, 9]          | True                | True               \n",
            "    8 | [10]               | True                | True               \n",
            "    9 | [9, 10]            | True                | True               \n",
            "   10 | [1, 2, 3, 4, 5, 6, 7, 8] | True                | True               \n"
          ]
        }
      ],
      "source": [
        "mensagem_original = '1101011011'\n",
        "gerador = '10011'  # exemplo G(x)\n",
        "\n",
        "crc = calcular_crc_manual(mensagem_original, gerador)\n",
        "mensagem_transmitida = mensagem_original + crc\n",
        "\n",
        "padroes_erro = [\n",
        "    [0],        # erro no primeiro bit\n",
        "    [3],        # erro isolado\n",
        "    [5, 6],     # erro duplo\n",
        "    [2, 4, 6],  # 3 bits alternados\n",
        "    [7, 8, 9],  # rajada de 3 bits\n",
        "    [0, 1, 2, 3], # rajada de 4 bits\n",
        "    [1, 5, 9],  # disperso\n",
        "    [10],       # erro no bit do CRC\n",
        "    [9, 10],    # erro cruzando dados e CRC\n",
        "    [1, 2, 3, 4, 5, 6, 7, 8]  # rajada longa\n",
        "]\n",
        "\n",
        "print(\"Teste | Padrão de erro     | Detectado (manual) | Detectado (biblio)\")\n",
        "print(\"------|--------------------|---------------------|---------------------\")\n",
        "for i, padrao in enumerate(padroes_erro):\n",
        "    recebido = introduzir_erro(mensagem_transmitida, padrao)\n",
        "    detectado_manual = erro_detectado(recebido, gerador)\n",
        "\n",
        "    # para comparar com a lib, precisamos verificar se o CRC da parte recebida com erro bate\n",
        "    crc_bib = crc_biblioteca(recebido)\n",
        "    detectado_bib = crc_bib != '0000000000000000'\n",
        "\n",
        "    print(f\"{i+1:>5} | {str(padrao):<18} | {str(detectado_manual):<19} | {str(detectado_bib):<19}\")\n"
      ]
    }
  ],
  "metadata": {
    "kernelspec": {
      "display_name": ".venv",
      "language": "python",
      "name": "python3"
    },
    "language_info": {
      "codemirror_mode": {
        "name": "ipython",
        "version": 3
      },
      "file_extension": ".py",
      "mimetype": "text/x-python",
      "name": "python",
      "nbconvert_exporter": "python",
      "pygments_lexer": "ipython3",
      "version": "3.12.3"
    },
    "colab": {
      "provenance": []
    }
  },
  "nbformat": 4,
  "nbformat_minor": 5
}